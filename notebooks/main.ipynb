{
 "cells": [
  {
   "cell_type": "code",
   "execution_count": 1,
   "metadata": {},
   "outputs": [],
   "source": [
    "import sys\n",
    "import os\n",
    "\n",
    "sys.path.append(os.path.abspath(\"../src\"))"
   ]
  },
  {
   "cell_type": "code",
   "execution_count": null,
   "metadata": {},
   "outputs": [],
   "source": [
    "from p2 import print_zen\n",
    "\n",
    "print_zen()\n"
   ]
  },
  {
   "cell_type": "code",
   "execution_count": null,
   "metadata": {},
   "outputs": [],
   "source": [
    "from p2 import longest_title\n",
    "\n",
    "titles = []\n",
    "for i in range(5):\n",
    "    titles.append(input(\"Ingrese el nombre de un titulo : \"))\n",
    "\n",
    "longest_title(titles)"
   ]
  },
  {
   "cell_type": "code",
   "execution_count": null,
   "metadata": {},
   "outputs": [],
   "source": [
    "from p2 import word_conduct_code\n",
    "\n",
    "codes = []\n",
    "code = input (\"ingrese un codigo de conducta o ingrese 0 para terminar : \")\n",
    "while(code != \"0\"):\n",
    "    codes.append(code)\n",
    "    code = input (\"ingrese un codigo de conducta o ingrese 0 para terminar : \")\n",
    "word_conduct_code(codes)\n"
   ]
  },
  {
   "cell_type": "code",
   "execution_count": null,
   "metadata": {},
   "outputs": [],
   "source": [
    "from p2 import valid_user\n",
    "import string\n",
    "\n",
    "valid_user()"
   ]
  },
  {
   "cell_type": "code",
   "execution_count": null,
   "metadata": {},
   "outputs": [],
   "source": [
    "from p2 import velocity_clasification\n",
    "\n",
    "velocity_clasification()"
   ]
  },
  {
   "cell_type": "code",
   "execution_count": null,
   "metadata": {},
   "outputs": [],
   "source": [
    "from p2 import mentions_description\n",
    "descriptions = []\n",
    "description = (input(\"Ingrese una descripcion o 0 para finalizar de ingresar\"))\n",
    "while(description != '0'):\n",
    "    descriptions.append(description)\n",
    "    description = (input(\"Ingrese una descripcion o 0 para finalizar de ingresar\"))\n",
    "mentions_description(descriptions)\n"
   ]
  },
  {
   "cell_type": "code",
   "execution_count": null,
   "metadata": {},
   "outputs": [],
   "source": [
    "from p2 import discount_code\n",
    "discount_code()"
   ]
  },
  {
   "cell_type": "code",
   "execution_count": null,
   "metadata": {},
   "outputs": [],
   "source": [
    "from p2 import is_anagram\n",
    "is_anagram()"
   ]
  },
  {
   "cell_type": "code",
   "execution_count": null,
   "metadata": {},
   "outputs": [],
   "source": [
    "from cleaner import *\n",
    "clients = [\n",
    "\" Ana López \", \"Pedro Gómez\", \"maria martínez\", \"Pedro Gómez \", \"\",\n",
    "\" Luis Rodríguez \", None, \"ana lópez\", \"JUAN PÉREZ\", \"MARTA SUÁREZ\",\n",
    "\"luis rodríguez\", \"maría martínez \", \" claudia torres\", \"CLAUDIA TORRES\",\n",
    "\" \", \"pedro gómez\", \"Juan Pérez\", None, \"Ricardo Fernández\", \"LAURA RAMOS\",\n",
    "\"carlos mendes\", \"RICARDO FERNÁNDEZ \", \" Laura ramos\", \"CARLOS MENDES\",\n",
    "\"alejandro gonzález\", \" ALEJANDRO GONZÁLEZ \", \"Patricia Vega\",\n",
    "\"patricia VEGA\", \"Andrés Ocampo\", \" andrés ocampo\", \"Monica Herrera\",\n",
    "\"MONICA HERRERA \", \"gabriela ruíz\", \"Gabriela Ruíz\", \"sandra morales\",\n",
    "\"SANDRA MORALES\", \"miguel ángel\", \"Miguel Ángel \", \" Damián Castillo\",\n",
    "\"Damián Castillo \", None, \"\", \" \"\n",
    "]\n",
    "\n",
    "print_clean_names(clients)\n",
    "\n"
   ]
  },
  {
   "cell_type": "code",
   "execution_count": null,
   "metadata": {},
   "outputs": [
    {
     "name": "stdout",
     "output_type": "stream",
     "text": [
      "Ronda  1  : \n",
      "Shadow : bajas : 2 - asistencias : 1 - muertes : 1 \n",
      " \n",
      "Blaze : bajas : 1 - asistencias : 0 - muertes : 0 \n",
      " \n",
      "Viper : bajas : 1 - asistencias : 2 - muertes : 1 \n",
      " \n",
      "Frost : bajas : 0 - asistencias : 1 - muertes : 0 \n",
      " \n",
      "Reaper : bajas : 1 - asistencias : 1 - muertes : 0 \n",
      " \n",
      "El MVP de la ronda fue :  Shadow\n",
      "Ronda  2  : \n",
      "Shadow : bajas : 0 - asistencias : 2 - muertes : 0 \n",
      " \n",
      "Blaze : bajas : 2 - asistencias : 0 - muertes : 1 \n",
      " \n",
      "Viper : bajas : 1 - asistencias : 1 - muertes : 0 \n",
      " \n",
      "Frost : bajas : 2 - asistencias : 1 - muertes : 1 \n",
      " \n",
      "Reaper : bajas : 0 - asistencias : 1 - muertes : 0 \n",
      " \n",
      "El MVP de la ronda fue :  Frost\n",
      "Ronda  3  : \n",
      "Shadow : bajas : 1 - asistencias : 0 - muertes : 0 \n",
      " \n",
      "Blaze : bajas : 2 - asistencias : 2 - muertes : 1 \n",
      " \n",
      "Viper : bajas : 1 - asistencias : 1 - muertes : 1 \n",
      " \n",
      "Frost : bajas : 0 - asistencias : 1 - muertes : 0 \n",
      " \n",
      "Reaper : bajas : 1 - asistencias : 1 - muertes : 0 \n",
      " \n",
      "El MVP de la ronda fue :  Blaze\n",
      "Ronda  4  : \n",
      "Shadow : bajas : 2 - asistencias : 1 - muertes : 0 \n",
      " \n",
      "Blaze : bajas : 1 - asistencias : 0 - muertes : 1 \n",
      " \n",
      "Viper : bajas : 0 - asistencias : 2 - muertes : 0 \n",
      " \n",
      "Frost : bajas : 1 - asistencias : 1 - muertes : 1 \n",
      " \n",
      "Reaper : bajas : 1 - asistencias : 1 - muertes : 0 \n",
      " \n",
      "El MVP de la ronda fue :  Shadow\n",
      "Ronda  5  : \n",
      "Shadow : bajas : 1 - asistencias : 2 - muertes : 1 \n",
      " \n",
      "Blaze : bajas : 0 - asistencias : 1 - muertes : 0 \n",
      " \n",
      "Viper : bajas : 2 - asistencias : 0 - muertes : 1 \n",
      " \n",
      "Frost : bajas : 1 - asistencias : 1 - muertes : 0 \n",
      " \n",
      "Reaper : bajas : 25 - asistencias : 1 - muertes : 1 \n",
      " \n",
      "El MVP de la ronda fue :  Reaper\n",
      "Ranking Final :\n",
      "Reaper : bajas : 28 - asistencias : 5 - muertes : 1 - MVPs : 1 - puntaje : 88 \n",
      "\n",
      "Shadow : bajas : 6 - asistencias : 6 - muertes : 2 - MVPs : 2 - puntaje : 22 \n",
      "\n",
      "Blaze : bajas : 6 - asistencias : 3 - muertes : 3 - MVPs : 1 - puntaje : 18 \n",
      "\n",
      "Viper : bajas : 5 - asistencias : 6 - muertes : 3 - MVPs : 0 - puntaje : 18 \n",
      "\n",
      "Frost : bajas : 4 - asistencias : 5 - muertes : 2 - MVPs : 1 - puntaje : 15 \n",
      "\n"
     ]
    }
   ],
   "source": [
    "from game import *\n",
    "rounds = [\n",
    "{\n",
    "'Shadow': {'kills': 2, 'assists': 1, 'deaths': True},\n",
    "'Blaze': {'kills': 1, 'assists': 0, 'deaths': False},\n",
    "'Viper': {'kills': 1, 'assists': 2, 'deaths': True},\n",
    "'Frost': {'kills': 0, 'assists': 1, 'deaths': False},\n",
    "'Reaper': {'kills': 1, 'assists': 1, 'deaths': False}\n",
    "},\n",
    "{\n",
    "'Shadow': {'kills': 0, 'assists': 2, 'deaths': False},\n",
    "'Blaze': {'kills': 2, 'assists': 0, 'deaths': True},\n",
    "'Viper': {'kills': 1, 'assists': 1, 'deaths': False},\n",
    "'Frost': {'kills': 2, 'assists': 1, 'deaths': True},\n",
    "'Reaper': {'kills': 0, 'assists': 1, 'deaths': False}\n",
    "},\n",
    "{\n",
    "'Shadow': {'kills': 1, 'assists': 0, 'deaths': False},\n",
    "'Blaze': {'kills': 2, 'assists': 2, 'deaths': True},\n",
    "'Viper': {'kills': 1, 'assists': 1, 'deaths': True},\n",
    "'Frost': {'kills': 0, 'assists': 1, 'deaths': False},\n",
    "'Reaper': {'kills': 1, 'assists': 1, 'deaths': False}\n",
    "},\n",
    "{\n",
    "'Shadow': {'kills': 2, 'assists': 1, 'deaths': False},\n",
    "'Blaze': {'kills': 1, 'assists': 0, 'deaths': True},\n",
    "'Viper': {'kills': 0, 'assists': 2, 'deaths': False},\n",
    "'Frost': {'kills': 1, 'assists': 1, 'deaths': True},\n",
    "'Reaper': {'kills': 1, 'assists': 1, 'deaths': False}\n",
    "},\n",
    "{\n",
    "'Shadow': {'kills': 1, 'assists': 2, 'deaths': True},\n",
    "'Blaze': {'kills': 0, 'assists': 1, 'deaths': False},\n",
    "'Viper': {'kills': 2, 'assists': 0, 'deaths': True},\n",
    "'Frost': {'kills': 1, 'assists': 1, 'deaths': False},\n",
    "'Reaper': {'kills': 25, 'assists': 1, 'deaths': True}\n",
    "}\n",
    "]\n",
    "final_score = make_final_score(rounds)\n",
    "rounds_calculation(rounds,final_score)\n",
    "print_final_ranking(final_score)"
   ]
  }
 ],
 "metadata": {
  "kernelspec": {
   "display_name": "venv",
   "language": "python",
   "name": "python3"
  },
  "language_info": {
   "codemirror_mode": {
    "name": "ipython",
    "version": 3
   },
   "file_extension": ".py",
   "mimetype": "text/x-python",
   "name": "python",
   "nbconvert_exporter": "python",
   "pygments_lexer": "ipython3",
   "version": "3.12.9"
  }
 },
 "nbformat": 4,
 "nbformat_minor": 2
}
