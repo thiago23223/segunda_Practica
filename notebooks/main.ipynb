{
 "cells": [
  {
   "cell_type": "code",
   "execution_count": 1,
   "metadata": {},
   "outputs": [],
   "source": [
    "import sys\n",
    "import os\n",
    "\n",
    "sys.path.append(os.path.abspath(\"../src\"))"
   ]
  },
  {
   "cell_type": "code",
   "execution_count": null,
   "metadata": {},
   "outputs": [],
   "source": [
    "from p2 import print_zen\n",
    "\n",
    "print_zen()\n"
   ]
  },
  {
   "cell_type": "code",
   "execution_count": null,
   "metadata": {},
   "outputs": [],
   "source": [
    "from p2 import longest_title\n",
    "\n",
    "titles = []\n",
    "for i in range(5):\n",
    "    titles.append(input(\"Ingrese el nombre de un titulo : \"))\n",
    "\n",
    "longest_title(titles)"
   ]
  },
  {
   "cell_type": "code",
   "execution_count": null,
   "metadata": {},
   "outputs": [],
   "source": [
    "from p2 import word_conduct_code\n",
    "\n",
    "codes = []\n",
    "code = input (\"ingrese un codigo de conducta o ingrese 0 para terminar : \")\n",
    "while(code != 0):\n",
    "    codes.append(code)\n",
    "    code = input (\"ingrese un codigo de conducta o ingrese 0 para terminar : \")\n",
    "word_conduct_code(codes)\n"
   ]
  },
  {
   "cell_type": "code",
   "execution_count": 3,
   "metadata": {},
   "outputs": [
    {
     "name": "stdout",
     "output_type": "stream",
     "text": [
      "El nombre de usuario es valido\n"
     ]
    }
   ],
   "source": [
    "from p2 import valid_user\n",
    "import string\n",
    "\n",
    "valid_user()"
   ]
  },
  {
   "cell_type": "code",
   "execution_count": null,
   "metadata": {},
   "outputs": [],
   "source": [
    "from p2 import velocity_clasification\n",
    "\n",
    "velocity_clasification()"
   ]
  },
  {
   "cell_type": "code",
   "execution_count": null,
   "metadata": {},
   "outputs": [],
   "source": [
    "from p2 import mentions_description\n",
    "descriptions = []\n",
    "description = (input(\"Ingrese una descripcion o 0 para finalizar de ingresar\"))\n",
    "while(description != '0'):\n",
    "    descriptions.append(description)\n",
    "    description = (input(\"Ingrese una descripcion o 0 para finalizar de ingresar\"))\n",
    "mentions_description(descriptions)\n"
   ]
  },
  {
   "cell_type": "code",
   "execution_count": null,
   "metadata": {},
   "outputs": [],
   "source": [
    "from p2 import discount_code\n",
    "discount_code()"
   ]
  },
  {
   "cell_type": "code",
   "execution_count": 7,
   "metadata": {},
   "outputs": [
    {
     "name": "stdout",
     "output_type": "stream",
     "text": [
      "Son anagramas. \n"
     ]
    }
   ],
   "source": [
    "from p2 import is_anagram\n",
    "is_anagram()"
   ]
  }
 ],
 "metadata": {
  "kernelspec": {
   "display_name": "venv",
   "language": "python",
   "name": "python3"
  },
  "language_info": {
   "codemirror_mode": {
    "name": "ipython",
    "version": 3
   },
   "file_extension": ".py",
   "mimetype": "text/x-python",
   "name": "python",
   "nbconvert_exporter": "python",
   "pygments_lexer": "ipython3",
   "version": "3.12.9"
  }
 },
 "nbformat": 4,
 "nbformat_minor": 2
}
